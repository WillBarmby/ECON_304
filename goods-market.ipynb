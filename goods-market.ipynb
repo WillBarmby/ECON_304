{
 "cells": [
  {
   "cell_type": "markdown",
   "id": "4a7a9724",
   "metadata": {},
   "source": [
    "# Goods Market\n",
    "\n",
    "by **Professor Throckmorton**  \n",
    "for *Intermediate Macro*  \n",
    "W&amp;M ECON 304  \n",
    "[Slides](goods-market.slides.html)"
   ]
  },
  {
   "cell_type": "markdown",
   "id": "558aeec7",
   "metadata": {
    "slideshow": {
     "slide_type": "slide"
    }
   },
   "source": [
    "## Introduction\n",
    "\n",
    "- In Part 1, we looked at different ways of accounting for GDP and comparing GDP per capita and its growth rate across countries.\n",
    "- The Solow growth model made **dynamic** predictions about income per worker given assumptions about the nature of production, capital, and investment.\n",
    "- In that model, we focused on the effects of capital accumulation, technological growth, and the savings rate on income per worker over **the long run**.\n",
    "- While $Y = C + I$, the growth model was about explaining investment, not consumption.\n",
    "- In Part 2, we will abstract from capital accumulation and turn our attention to the **short run**, first focusing on household **consumption**."
   ]
  },
  {
   "cell_type": "code",
   "execution_count": null,
   "id": "e73fe06b",
   "metadata": {},
   "outputs": [],
   "source": []
  },
  {
   "cell_type": "markdown",
   "id": "ecf5a5d7",
   "metadata": {
    "slideshow": {
     "slide_type": "slide"
    }
   },
   "source": [
    "**Q: Why Consumption?**\n",
    "\n",
    "\n",
    "![BEA, National Data, NIPA, Table 1.1.5](dl/goods-market-cons-share.png)\n",
    "\n",
    "- The consumption share of GDP is the largest component, larger than investment, government spending, and net exports.\n",
    "- The consumption share of GDP has increased over time.\n",
    "- Of course this is quite different between high and low income countries, but high income countries generally have a large share of consumption to GDP.\n"
   ]
  },
  {
   "cell_type": "markdown",
   "id": "c5df1c10",
   "metadata": {
    "slideshow": {
     "slide_type": "slide"
    }
   },
   "source": [
    "## Consumption Function\n",
    "\n",
    "- Assume that aggregate consumption is a function of disposable income\n",
    "\n",
    "$$\n",
    "C = c_0 + c_1 \\times (Y - T)\n",
    "$$\n",
    "\n",
    "- $Y$ is income, while $T$ is net tax revenue. Thus, $Y-T$ is disposable income available to households.\n",
    "- Note: $T$ is **net** tax revenue because some households receive transfers from the government, e.g., Social Security payments and medical expenses paid via Medicare"
   ]
  },
  {
   "cell_type": "markdown",
   "id": "0c9099f9",
   "metadata": {
    "slideshow": {
     "slide_type": "slide"
    }
   },
   "source": [
    "**Parameters**\n",
    "\n",
    "- $c_1$ quantifies the fraction of current disposable income consumed by households\n",
    "    - In the language of micro, we might call it the \"consumption elasticity of disposable income\"\n",
    "    - In the language of macro, most people call it the \"marginal propensity to consume\" (MPC)\n",
    "    - If there were low and high income households in the model, which do you think would have a higher average MPC? \n",
    "- $c_0$ is all consumption that is independent of current disposable income. Imagine if $Y-T = 0$, then\n",
    "    - households could dissave and consume out of their wealth, or\n",
    "    - households could borrow against their wealth or future income to consume."
   ]
  },
  {
   "cell_type": "markdown",
   "id": "077b4c9e",
   "metadata": {
    "slideshow": {
     "slide_type": "slide"
    }
   },
   "source": [
    "## Aggregate Expenditure\n",
    "\n",
    "- In Ch. 2, the expenditure approach to GDP is $Y = C + I + G + NX$\n",
    "- In the Solow growth model, we abstract from $G$ and $NX$ and just had $Y = C + I$\n",
    "- In Part 2, we'll work with a closed economy but consider changes in government spending, so $Y = C + I + G$\n",
    "- But we need to separate the expenditure (i.e., demand) side apart from the supply side, so let $Y$ be aggregate supply/output and aggregate expenditure is\n",
    "\n",
    "$$\n",
    "Z = C + I + G\n",
    "$$\n",
    "- In equilibrium, $Y = Z$, but there are disequilibria where $Y \\neq Z$"
   ]
  },
  {
   "cell_type": "markdown",
   "id": "e0aaa952",
   "metadata": {
    "slideshow": {
     "slide_type": "slide"
    }
   },
   "source": [
    "**Disequilibrium $\\rightarrow$ Equilibrium**\n",
    "\n",
    "- If $Y > Z$, there is excess supply\n",
    "    - Inventories would accumulate\n",
    "    - Firms would probably decrease production $\\downarrow Y$\n",
    "\n",
    "- If $Y < Z$, there is excess expenditure\n",
    "    - Inventories would deplete\n",
    "    - Firms would probably increase production $\\uparrow Y$\n",
    "\n",
    "- Either way, there is a tendency for $Y$ to move toward $Z$, and thus $Y = Z$ is an equilibrium."
   ]
  },
  {
   "cell_type": "markdown",
   "id": "eb6fce4e",
   "metadata": {
    "slideshow": {
     "slide_type": "slide"
    }
   },
   "source": [
    "## Endogneous Variables\n",
    "\n",
    "- So far, the model has variables $Y, C, I, G, T$\n",
    "- We've assumed $C$ is a function of $Y$ and in equilibrium, $Y = C + I + G$, i.e., $Y$ is a function of $C$. These are known as **endogenous variables**.\n",
    "- However, we have not assumed functions for $I,G,T$ (yet). They are variables and could change, but they do not explicitly depend on $Y$ or $C$ (yet). These are known as **exogenous variables**.\n",
    "- We can also treat parameters as **exogenous variables**, e.g., in the growth model we considered the effects of an increasing in the savings rate (a parameter).\n",
    "- For example, we could consider a financial crisis that reduces asset prices a reduction in househould wealth that is reflected by a decrease in $c_0$. Another way to think of that is falling consumer confidence."
   ]
  },
  {
   "cell_type": "markdown",
   "id": "711ead7a",
   "metadata": {
    "slideshow": {
     "slide_type": "slide"
    }
   },
   "source": [
    "## The Multiplier\n",
    "\n",
    "- The goods market in equilibrium has 3 equations\n",
    "    1) $C = c_0 + c_1 \\times (Y - T)$ (a behavioral equation)\n",
    "    2) $Z = C + I + G$ (an accounting identity)\n",
    "    3) $Y = Z$ (an equilibrium condition)\n",
    "- The main prediction this model makes is that an exogenous change in expenditure is multiplied into a larger endogenous change in equilibrium income/output.\n",
    "- That result is known as **Income Multiplication** (or the Keynesian Multiplier)."
   ]
  },
  {
   "cell_type": "markdown",
   "id": "1d6a907f",
   "metadata": {
    "slideshow": {
     "slide_type": "slide"
    }
   },
   "source": [
    "**Multiplier Example**\n",
    "\n",
    "- Suppose an Infrastructure Spending Bill is passed, or $G \\uparrow$ by $\\Delta G$\n",
    "- Aggregate expenditure, $Z$, directly increases by $\\Delta G$\n",
    "- Firms see higher demand for their outputs, e.g., increased orders for steel, cement, and construction equipment and vehicles, so they increase production, $Y \\uparrow$ also by $\\Delta G$ (on impact)\n",
    "- Households receive more income and they consume an additional $c_1 \\Delta G$\n",
    "- But $C$ is part of $Z$, so the loop repeats, i.e, the initial change in government spending multiplies into additional income over time."
   ]
  },
  {
   "cell_type": "markdown",
   "id": "9fc14187",
   "metadata": {
    "slideshow": {
     "slide_type": "slide"
    }
   },
   "source": [
    "| Multiplier Step    | $\\Delta Y$   | $\\Delta C$   |\n",
    "| ------- | ------------ | ---------------------- |\n",
    "| 0      | $\\Delta G$      | $c_1\\Delta G$      |\n",
    "| 1      | $c_1\\Delta G$      | $c_1^2\\Delta G$      |\n",
    "| 2      | $c_1^2\\Delta G$      | $c_1^3\\Delta G$      |\n",
    "| 3      | $c_1^3\\Delta G$      | $c_1^4\\Delta G$      |\n",
    "| ...    | ...      | ...      |\n",
    "\n",
    "- Since we've assumed $0 < c_1 < 1$, each additional step is adding a smaller amount to income/output.\n",
    "- Add up the $\\Delta Y$ column and we get\n",
    "\n",
    "    $$\n",
    "    \\Delta Y = \\Delta G + c_1\\Delta G +c_1^2\\Delta G +c_1^3\\Delta G + \\cdots \\\\\n",
    "    = \\Delta G (1 + c_1  +c_1^2 +c_1^3  + \\cdots) \\\\\n",
    "    = \\frac{\\Delta G}{1-c_1}\n",
    "    $$\n",
    "- In other words, the multiplication process is represented by a geometric series (see the [Wiki](https://en.wikipedia.org/wiki/Geometric_series#Convergence_of_the_series_and_its_proof) on that).\n",
    "- E.g., suppose $\\Delta G = \\$1T$ and $c_1 = 0.25$, then\n",
    "\n",
    "    $$\n",
    "    \\Delta Y = \\frac{\\Delta G}{1-c_1} = \\frac{\\$1T}{0.75} = \\$1.33T\n",
    "    $$\n",
    "\n",
    "- $1/(1-c_1)$ is known as the **government spending multiplier** in this model."
   ]
  },
  {
   "cell_type": "markdown",
   "id": "1bb3b5a3",
   "metadata": {
    "slideshow": {
     "slide_type": "slide"
    }
   },
   "source": [
    "## Equilibrium Output\n",
    "\n",
    "- The goods market makes predictions about output/income, $Y$.\n",
    "- Q: How do changes in exogenous variables affect $Y$?\n",
    "- Combining the goods markets equations (imposing that the model is in equilibrium)\n",
    "\n",
    "    $$\n",
    "    Y = c_0 + c_1(Y-T) + I + G\n",
    "    $$\n",
    "\n",
    "- Solving for equilibrium output, $Y$\n",
    "\n",
    "    $$\n",
    "    Y = \\frac{1}{1-c_1} \\left(c_0 - c_1 T + I + G \\right)\n",
    "    $$\n",
    "\n",
    "- $c_1, c_0, T, I, G$ are all exogenous parameters/variables at the moment."
   ]
  },
  {
   "cell_type": "markdown",
   "id": "daea614a",
   "metadata": {
    "slideshow": {
     "slide_type": "slide"
    }
   },
   "source": [
    "**Other Multipliers**\n",
    "\n",
    "- From the solution for equilbrium output, we can see the government spending multiplier (which is the same as the earlier example)\n",
    "\n",
    "    $$\n",
    "    \\Delta Y = \\frac{1}{1-c_1} \\Delta G\n",
    "    $$\n",
    "\n",
    "- An exogenous change in investment has the same multiplier\n",
    "\n",
    "    $$\n",
    "    \\Delta Y = \\frac{1}{1-c_1} \\Delta I\n",
    "    $$\n",
    "\n",
    "- However, an exogenous change in net taxes has a different multiplier because households first choose consumption vs. savings and a change in net taxes has the opposite effect on consumption (than a change in governement spending).\n",
    "\n",
    "    $$\n",
    "    \\Delta Y = \\frac{-c_1}{1-c_1} \\Delta T\n",
    "    $$"
   ]
  },
  {
   "cell_type": "markdown",
   "id": "9fdccce0",
   "metadata": {
    "slideshow": {
     "slide_type": "slide"
    }
   },
   "source": [
    "## Goods Market Graph\n",
    "\n",
    "- The goods market graph will show output, $Y$, vs expenditure, $Z$.\n",
    "- Blanchard, *Macroeconomics* (9th Edition, 2025) introduces new notation for a graph of aggregate expenditure and calls it $ZZ$.\n",
    "- $ZZ$ differentiates the aggregate expenditure function from particular realizations of aggregate expenditure that we label as just $Z$ on the vertical axis."
   ]
  },
  {
   "cell_type": "code",
   "execution_count": 170,
   "id": "4bc7c83b",
   "metadata": {
    "slideshow": {
     "slide_type": "fragment"
    },
    "tags": [
     "hide-input"
    ]
   },
   "outputs": [
    {
     "data": {
      "image/png": "[encoded data removed]",
      "text/plain": [
       "<Figure size 650x350 with 1 Axes>"
      ]
     },
     "metadata": {},
     "output_type": "display_data"
    }
   ],
   "source": [
    "import numpy as np\n",
    "import matplotlib.pyplot as plt\n",
    "x = np.linspace(0, 40, 100)\n",
    "y = 10 + x/3\n",
    "plt.figure(figsize=(6.5, 3.5))\n",
    "plt.plot(x, y)\n",
    "plt.xlim(0, 30)\n",
    "plt.ylim(0, 30)\n",
    "plt.xlabel('Output, Y', loc='right')\n",
    "plt.ylabel('Agg. Exp., Z', loc='top')\n",
    "plt.title('Goods Market')\n",
    "plt.grid()\n",
    "plt.axhline(0, color='black',linewidth=0.5, ls='--')\n",
    "# add line for 45 degree line from origin\n",
    "plt.plot(x, x, color='red', linewidth=0.5, ls='--')\n",
    "# add label for 45 degree line that says Y=Z\n",
    "plt.text(25, 23, 'Y=Z', color='black')\n",
    "# add label for expenditure line that says ZZ=C+I+G\n",
    "plt.text(25, 16.5, 'ZZ=C+I+G', color='black')\n",
    "# label the equilibrium point on the graph\n",
    "plt.plot(15, 15, marker='o', color='black')\n",
    "plt.text(15, 16, 'Equilibrium', fontsize=8, verticalalignment='bottom', horizontalalignment='right')\n",
    "# put Y* = 15 on horizontal axis\n",
    "plt.text(15.2, -1, 'Y*', fontsize=12, verticalalignment='top', horizontalalignment='center')\n",
    "# put dashed vertical line between horizon axis and equilibrium point\n",
    "plt.axvline(15, ymin=0, ymax=0.5, color='black', linewidth=0.5, ls='--')\n",
    "# put horizontal dashed line between vertical axis and equilibrium point\n",
    "plt.axhline(15, xmin=0, xmax=0.5, color='black', linewidth=0.5, ls='--')\n",
    "plt.text(-1, 15.9, 'Z*', fontsize=12, verticalalignment='top', horizontalalignment='center')\n",
    "# remove x and y labels and ticks\n",
    "plt.xticks([]); plt.yticks([]);\n"
   ]
  },
  {
   "cell_type": "code",
   "execution_count": 169,
   "id": "ef920d38",
   "metadata": {
    "slideshow": {
     "slide_type": "slide"
    },
    "tags": [
     "hide-input"
    ]
   },
   "outputs": [
    {
     "data": {
      "image/png": "[encoded data removed]",
      "text/plain": [
       "<Figure size 650x350 with 1 Axes>"
      ]
     },
     "metadata": {},
     "output_type": "display_data"
    }
   ],
   "source": [
    "import numpy as np\n",
    "import matplotlib.pyplot as plt\n",
    "x = np.linspace(0, 40, 100)\n",
    "y = 10 + x/3\n",
    "plt.figure(figsize=(6.5, 3.5))\n",
    "plt.plot(x, y)\n",
    "plt.xlim(0, 30)\n",
    "plt.ylim(0, 30)\n",
    "plt.xlabel('Output, Y', loc='right')\n",
    "plt.ylabel('Agg. Exp., Z', loc='top')\n",
    "plt.title('Goods Market')\n",
    "plt.grid()\n",
    "plt.axhline(0, color='black',linewidth=0.5, ls='--')\n",
    "# add line for 45 degree line from origin\n",
    "plt.plot(x, x, color='red', linewidth=0.5, ls='--')\n",
    "# add label for 45 degree line that says Y=Z\n",
    "plt.text(25, 23, 'Y=Z', color='black')\n",
    "# add label for expenditure line that says ZZ=C+I+G\n",
    "plt.text(25, 16, 'ZZ=C+I+G', color='black')\n",
    "# label the equilibrium point on the graph\n",
    "plt.plot(15, 15, marker='o', color='black')\n",
    "# put Y* = 15 on horizontal axis\n",
    "plt.text(15, -1, 'Y*', fontsize=12, verticalalignment='top', horizontalalignment='center')\n",
    "# put dashed vertical line between horizon axis and equilibrium point\n",
    "plt.axvline(15, ymin=0, ymax=0.5, color='black', linewidth=0.5, ls='--')\n",
    "# put horizontal dashed line between vertical axis and equilibrium point\n",
    "plt.axhline(15, xmin=0, xmax=0.5, color='black', linewidth=0.5, ls='--')\n",
    "plt.text(-1, 15.5, 'Z*', fontsize=12, verticalalignment='top', horizontalalignment='center')\n",
    "# Put dot on 45 degree line at (5,5)\n",
    "plt.plot(5, 5, marker='o', color='black')\n",
    "# put dashed vertical line between horizon axis and aggregate expenditure line\n",
    "plt.axvline(5, ymin=0, ymax=0.39, color='black', linewidth=0.5, ls='--')\n",
    "# label the point (5,5) with Y_low\n",
    "plt.text(5, -1, '$Y_{low}$', fontsize=12, verticalalignment='top', horizontalalignment='center')\n",
    "# put dashed horizontal line between vertical axis and (5,5)\n",
    "plt.axhline(5, xmin=0, xmax=5/30, color='black', linewidth=0.5, ls='--')\n",
    "# label the point (5,5) with Y_low on the vertical axis\n",
    "plt.text(-0.5, 5, '$Y_{low}$', fontsize=12, verticalalignment='center', horizontalalignment='right')\n",
    "# put dashed horizontal line between vertical axis and aggregate expenditure line at X=5\n",
    "plt.axhline(11.7, xmin=0, xmax=5/30, color='black', linewidth=0.5, ls='--')\n",
    "# label the point (5,11.7) with Z_low on the vertical axis\n",
    "plt.text(-0.5, 11.7, '$Z_{low}$', fontsize=12, verticalalignment='center', horizontalalignment='right')\n",
    "# put a dot on the expenditure line at (5,11.7)\n",
    "plt.plot(5, 11.7, marker='o', color='black')\n",
    "# put a vertical curly brace between (5,5) and (5,11.7)\n",
    "plt.annotate('', xy=(5, 5.3), xytext=(5, 11.1), arrowprops={'arrowstyle': '<->', 'lw':1.5})\n",
    "# label the vertical arrow with \"shortage\"\n",
    "plt.text(5.5, 8.5, 'Shortage', fontsize=10, verticalalignment='center')\n",
    "# remove x and y labels and ticks\n",
    "plt.xticks([]); plt.yticks([]);\n",
    "# add y label at 20\n",
    "plt.text(-0.5, 16.7, '$Z_{high}$', fontsize=12, verticalalignment='center', horizontalalignment='right')  \n",
    "# add x label at 20\n",
    "plt.text(20, -1, '$Y_{high}$', fontsize=12, verticalalignment='top', horizontalalignment='center')  \n",
    "# put dashed vertical line between horizon axis and aggregate expenditure line at X=20\n",
    "plt.axvline(20, ymin=0, ymax=16.7/30, color='black', linewidth=0.5, ls='--')\n",
    "# put dashed horizontal line between vertical axis and aggregate expenditure line at Y=20\n",
    "plt.axhline(16.7, xmin=0, xmax=20/30, color='black', linewidth=0.5, ls='--')\n",
    "# put a vertical curly brace between (20,12) and (20,20)\n",
    "plt.annotate('', xy=(20, 16.5), xytext=(20, 20), arrowprops={'arrowstyle': '<->', 'lw':1.5})\n",
    "# label the vertical arrow with \"surplus\"\n",
    "plt.text(20.5, 18.5, 'Surplus', fontsize=10, verticalalignment='center');\n"
   ]
  },
  {
   "cell_type": "markdown",
   "id": "1c6ff0ea",
   "metadata": {
    "slideshow": {
     "slide_type": "fragment"
    }
   },
   "source": [
    "- If output is below equilibrium, then expenditure exceeds output, $Z_{low} > Y_{low}$.\n",
    "- In micro language, we would call that a **shortage**. But in macro, excess expenditure could be met with **inventories** (i.e., past production).\n",
    "- Excess expenditure creates an unplanned decrease in inventories, which is an incentive for firms to increase output."
   ]
  },
  {
   "cell_type": "markdown",
   "id": "238df12f",
   "metadata": {
    "slideshow": {
     "slide_type": "slide"
    }
   },
   "source": [
    "## Experiment\n",
    "\n",
    "- Suppose $G\\uparrow$ from $G_0$ to $G_1$.\n",
    "- An exogenous increase in $G$ will **shift up the $ZZ$ curve**.\n",
    "- **That creates excess expenditure**, which depletes inventories.\n",
    "- **Firms increase production** until the new equilibrium is reached."
   ]
  },
  {
   "cell_type": "code",
   "execution_count": 171,
   "id": "ad8680a2",
   "metadata": {
    "slideshow": {
     "slide_type": "fragment"
    },
    "tags": [
     "hide-input"
    ]
   },
   "outputs": [
    {
     "data": {
      "image/png": "[encoded data removed]",
      "text/plain": [
       "<Figure size 650x350 with 1 Axes>"
      ]
     },
     "metadata": {},
     "output_type": "display_data"
    }
   ],
   "source": [
    "import numpy as np\n",
    "import matplotlib.pyplot as plt\n",
    "x = np.linspace(0, 40, 100)\n",
    "y = 12 + x/3\n",
    "plt.figure(figsize=(6.5, 3.5))\n",
    "plt.plot(x, y)\n",
    "# Shift aggregate expenditure line down by 7 units\n",
    "plt.plot(x, y-8.8)\n",
    "plt.xlim(0, 30)\n",
    "plt.ylim(0, 30)\n",
    "plt.xlabel('Output, Y', loc='right')\n",
    "plt.ylabel('Agg. Exp., Z', loc='top')\n",
    "plt.title('Goods Market')\n",
    "plt.grid()\n",
    "plt.axhline(0, color='black',linewidth=0.5, ls='--')\n",
    "# add line for 45 degree line from origin\n",
    "plt.plot(x, x, color='red', linewidth=0.5, ls='--')\n",
    "# add label for 45 degree line that says Y=Z\n",
    "plt.text(25, 23, 'Y=Z', color='black')\n",
    "# add label for expenditure line that says ZZ(G_0)\n",
    "plt.text(25, 9, '$ZZ(G_0)$', color='black')\n",
    "# add label for expenditure line that says ZZ(G_1)\n",
    "plt.text(25, 18, '$ZZ(G_1)$', color='black')\n",
    "# label the equilibrium point on the graph\n",
    "plt.plot(18, 18, marker='o', color='black')\n",
    "# put Y* = 15 on horizontal axis\n",
    "plt.text(18, -1, 'Y*', fontsize=12, verticalalignment='top', horizontalalignment='center')\n",
    "# put dashed vertical line between horizon axis and equilibrium point\n",
    "plt.axvline(18, ymin=0, ymax=18/30, color='black', linewidth=0.5, ls='--')\n",
    "# put horizontal dashed line between vertical axis and equilibrium point\n",
    "plt.axhline(18, xmin=0, xmax=18/30, color='black', linewidth=0.5, ls='--')\n",
    "plt.text(-1, 19, 'Z*', fontsize=12, verticalalignment='top', horizontalalignment='center')\n",
    "# Put dot on 45 degree line at (5,5)\n",
    "plt.plot(5, 5, marker='o', color='black')\n",
    "# put dashed vertical line between horizon axis and aggregate expenditure line\n",
    "plt.axvline(5, ymin=0, ymax=5/30, color='black', linewidth=0.5, ls='--')\n",
    "# label the point (5,5) with Y_low\n",
    "plt.text(5, -1, '$Y_0$', fontsize=12, verticalalignment='top', horizontalalignment='center')\n",
    "# put dashed horizontal line between vertical axis and (5,5)\n",
    "plt.axhline(5, xmin=0, xmax=5/30, color='black', linewidth=0.5, ls='--')\n",
    "# label the point (5,5) with Y_low on the vertical axis\n",
    "plt.text(-0.5, 5, '$Y_0$', fontsize=12, verticalalignment='center', horizontalalignment='right')\n",
    "# put dashed horizontal line between vertical axis and aggregate expenditure line at X=5\n",
    "plt.axhline(13.7, xmin=0, xmax=5/30, color='black', linewidth=0.5, ls='--')\n",
    "# label the point (5,11.7) with Z_low on the vertical axis\n",
    "plt.text(-0.5, 13.7, '$Z_1$', fontsize=12, verticalalignment='center', horizontalalignment='right')\n",
    "# put a dot on the expenditure line at (5,11.7)\n",
    "plt.plot(5, 13.7, marker='o', color='black')\n",
    "# put a vertical curly brace between (5,5) and (5,11.7)\n",
    "plt.annotate('', xy=(5, 5.5), xytext=(5, 13.1), arrowprops={'arrowstyle': '<->', 'lw':1.5})\n",
    "# label the vertical arrow with \"shortage\"\n",
    "plt.text(5.5, 9.5, 'Shortage', fontsize=10, verticalalignment='center')\n",
    "# remove x and y labels and ticks\n",
    "plt.xticks([]); plt.yticks([]);\n",
    "# label horizontal axis at 10 Y_1\n",
    "plt.text(10, -1, '$Y_1$', fontsize=12, verticalalignment='top', horizontalalignment='center')\n",
    "# add vertical dashed line at Y_1\n",
    "plt.axvline(10, ymin=0, ymax=15.5/30, color='black', linewidth=0.5, ls='--')\n",
    "# add dot at (10,15) on the expenditure line\n",
    "plt.plot(10, 15.5, marker='o', color='black')\n",
    "# add vertical axis label at 15.5 Z_2\n",
    "plt.text(-0.5, 17, '$Z_2$', fontsize=12, verticalalignment='top', horizontalalignment='right')\n",
    "# add horizontal dashed line at Z_2\n",
    "plt.axhline(15.5, xmin=0, xmax=10/30, color='black', linewidth=0.5, ls='--')\n",
    "# add right arrrow between 5 and 11 on just above the horizontal axis\n",
    "plt.annotate('', xy=(5.3, 2), xytext=(9.7, 2), arrowprops={'arrowstyle': '<-', 'lw':1.5})\n",
    "# add right arrrow between 5 and 11 on just above the horizontal axis\n",
    "plt.annotate('', xy=(10.3, 2), xytext=(17.7, 2), arrowprops={'arrowstyle': '<-', 'lw':1.5})\n",
    "# put a vertical curly brace between (5,5) and (5,11.7)\n",
    "plt.annotate('', xy=(10, 10.3), xytext=(10, 15), arrowprops={'arrowstyle': '<->', 'lw':1.5})\n",
    "# label the vertical arrow with \"shortage\"\n",
    "plt.text(10.5, 12.5, 'Shortage', fontsize=10, verticalalignment='center');\n",
    "# add a big up arrow on the right side between the two aggregate expenditure lines\n",
    "plt.annotate('', xy=(23, 11.5), xytext=(23, 19), arrowprops={'arrowstyle': '<-', 'lw':3});\n"
   ]
  },
  {
   "cell_type": "markdown",
   "id": "6178b3d9",
   "metadata": {
    "slideshow": {
     "slide_type": "slide"
    }
   },
   "source": [
    "## Savings\n",
    "\n",
    "- Define **private saving** as disposable income not consumed, $S_{private} \\equiv Y - T - C$.\n",
    "- Define **public saving** as net tax revenue minus government spending, $S_{public} \\equiv T - G$\n",
    "- Note that in a goods market equilibrium $Y = C + I + G$.\n",
    "- Subtract $T$ from both sides and move $C$ to the left hand side\n",
    "\n",
    "$$\n",
    "Y - T - C = I + G - T \\\\\n",
    "\\rightarrow S_{private} = I - (T - G) \\\\\n",
    "\\rightarrow I = S_{private} + S_{public} \\equiv S_{national}\n",
    "$$\n",
    "\n",
    "- Thus, in equilibrium investment equals saving."
   ]
  },
  {
   "cell_type": "markdown",
   "id": "ab59538e",
   "metadata": {},
   "source": []
  }
 ],
 "metadata": {
  "kernelspec": {
   "display_name": "base",
   "language": "python",
   "name": "python3"
  },
  "language_info": {
   "codemirror_mode": {
    "name": "ipython",
    "version": 3
   },
   "file_extension": ".py",
   "mimetype": "text/x-python",
   "name": "python",
   "nbconvert_exporter": "python",
   "pygments_lexer": "ipython3",
   "version": "3.12.2"
  }
 },
 "nbformat": 4,
 "nbformat_minor": 5
}
