{
 "cells": [
  {
   "attachments": {},
   "cell_type": "markdown",
   "id": "d0ff41e8-9d1e-4b1d-9d08-2a785bbd4975",
   "metadata": {
    "editable": true,
    "slideshow": {
     "slide_type": "slide"
    },
    "tags": []
   },
   "source": [
    "# Data Assignment 2\n",
    "\n",
    "1) **Will Barmby (931150290)**\n",
    "2) **Mike Markarian (931140514)**\n",
    "\n",
    "for *Intermediate Macro*  \n",
    "W&amp;M ECON 304  \n",
    "\n",
    "## Gradescope Reminders\n",
    "\n",
    "1) Only submit one assignment per group (of 3 members or less).\n",
    "2) Add all group members to the one submission.\n",
    "3) Select all the pages where your solutions appear to each question (i.e., not just the first page for each question).\n",
    "\n",
    "Complete instructions here: [Data Assignment Instructions](DA-instructions.ipynb)"
   ]
  },
  {
   "cell_type": "markdown",
   "id": "7ce34530",
   "metadata": {},
   "source": [
    "## 1) \n",
    "\n",
    "You may use GenAI to help with debugging your code for 1a. Do not use GenAI on question 1b.\n",
    "\n",
    "### a.\n",
    "\n",
    "- Get quarterly data on GDP and its components from 1960Q1-2025Q2:\n",
    "    - Gross Domestic Product (FRED: GDP)\n",
    "    - Personal consumption expenditures (FRED: PCEC)\n",
    "    - Gross private domestic investment (FRED: GPDI)\n",
    "    - Net exports of goods and services (FRED: NETEXP)\n",
    "    - Government consumption expenditures and gross investment (FRED: GCE)\n",
    "\n",
    "- For every quarter and each component $X$ (e.g., consumption, investment, etc...), calculate its percentage share of GDP, $100X_t/Y_t$, where $Y$ is real GDP.\n",
    "\n",
    "- Plot the shares of GDP for consumption, investment, government spending, and net exports (hint: it's probably easiest to read four separate figures, or subplots, one for each component)."
   ]
  },
  {
   "cell_type": "code",
   "execution_count": 2,
   "id": "6d4307da",
   "metadata": {},
   "outputs": [
    {
     "name": "stdout",
     "output_type": "stream",
     "text": [
      "                GDP     PCEC    GPDI  NETEXP      GCE\n",
      "1960-01-01  542.648  326.364  96.476   2.858  116.951\n",
      "1960-04-01  541.080  332.208  87.096   3.395  118.380\n",
      "1960-07-01  545.604  332.126  86.377   4.682  122.419\n",
      "1960-10-01  540.197  334.024  75.963   5.880  124.330\n",
      "1961-01-01  545.018  334.520  78.378   5.902  126.218\n",
      "                  GDP       PCEC      GPDI    NETEXP       GCE\n",
      "2024-04-01  29147.044  19756.093  5290.171  -894.370  4995.150\n",
      "2024-07-01  29511.664  20032.818  5330.249  -938.325  5086.922\n",
      "2024-10-01  29825.182  20351.292  5261.830  -938.666  5150.725\n",
      "2025-01-01  30042.113  20554.984  5556.216 -1264.604  5195.517\n",
      "2025-04-01  30485.729  20789.926  5358.632  -899.799  5236.970\n"
     ]
    }
   ],
   "source": [
    "import importlib, utils\n",
    "utils = importlib.reload(utils)\n",
    "import pandas as pd\n",
    "import fredapi as fa\n",
    "from fredapi import Fred\n",
    "from config import FRED_API_KEY\n",
    "fred = Fred(api_key=FRED_API_KEY)\n",
    "start_date = '1960-01-01'\n",
    "end_date = '2025-6-30'\n",
    "df = pd.DataFrame()\n",
    "series = ['GDP', 'PCEC','GPDI','NETEXP', 'GCE']\n",
    "for s in series:\n",
    "    df[s] = fred.get_series(s, observation_start=start_date, observation_end=end_date)\n",
    "print(df.head(5))\n",
    "print(df.tail(5))"
   ]
  },
  {
   "cell_type": "markdown",
   "id": "930f2148",
   "metadata": {},
   "source": [
    "### b.\n",
    "\n",
    "What long-run trends do you notice for each component's share of GDP? Briefly, what do you think are some reasons for those trends?"
   ]
  },
  {
   "cell_type": "markdown",
   "id": "ec172e55",
   "metadata": {},
   "source": []
  },
  {
   "cell_type": "markdown",
   "id": "86cef937",
   "metadata": {},
   "source": [
    "## 2) \n",
    "\n",
    "Feel free to use GenAI to help with question 2a. Do not use GenAI on question 2b.\n",
    "\n",
    "Each news release, the BEA reports the contributions to the real GDP growth rate (e.g., see [BEA News Release](https://www.bea.gov/sites/default/files/2025-07/gdp2q25-adv.pdf), Table 2). For any quarter $t$, a formula for decomposing the contributions to the real GDP growth rate is given by:\n",
    "\n",
    "$$\n",
    "        g_{Y,t} = g_{C,t}s_{C,t-1} + g_{I,t}s_{I,t-1} + g_{G,t}s_{G,t-1} + g_{NX,t}s_{NX,t-1}\n",
    "$$\n",
    "\n",
    "where $g_{X,t} \\equiv 400(X_t/X_{t-1} - 1)$ is an annualized quarterly growth rate of some GDP component, $X$, and $s_{X,t-1} \\equiv X_{t-1}/Y_{t-1}$ is $X$'s share of GDP at time $t-1$.\n",
    "\n",
    "### a.\n",
    "\n",
    "For 2015Q2 to 2025Q2, plot the contributions, $g_{X,t}s_{X,t-1}$, of consumption, private investment, government spending, and net exports to real GDP growth. Be sure to include a legend."
   ]
  },
  {
   "cell_type": "code",
   "execution_count": null,
   "id": "be9daf9f",
   "metadata": {},
   "outputs": [],
   "source": []
  },
  {
   "cell_type": "markdown",
   "id": "dd026f72",
   "metadata": {},
   "source": [
    "### b.\n",
    "\n",
    "Which component(s) are keeping recent (since 2020) GDP growth rates positive? Is that result surprising to you? Why or why not?"
   ]
  },
  {
   "cell_type": "markdown",
   "id": "e080fd19",
   "metadata": {},
   "source": []
  },
  {
   "cell_type": "markdown",
   "id": "92229130",
   "metadata": {},
   "source": []
  }
 ],
 "metadata": {
  "kernelspec": {
   "display_name": "Python (econ304)",
   "language": "python",
   "name": "econ304"
  },
  "language_info": {
   "codemirror_mode": {
    "name": "ipython",
    "version": 3
   },
   "file_extension": ".py",
   "mimetype": "text/x-python",
   "name": "python",
   "nbconvert_exporter": "python",
   "pygments_lexer": "ipython3",
   "version": "3.13.3"
  },
  "panel-cell-order": [
   "2405467c-081f-49db-93e1-78a9589a7af0",
   "8f630e1e-8562-4bb9-8189-ba3ff355ce68",
   "ad7fd46f-9fe3-47fd-913a-0b036a2afc1d",
   "28bc64c9-955a-410b-a6a2-ad8aa61334fa",
   "1187d7b8-af0b-48e4-815c-a100fd5b6ea1",
   "08ee3431-baa7-4ea5-b6d1-c2a91213f385"
  ]
 },
 "nbformat": 4,
 "nbformat_minor": 5
}
