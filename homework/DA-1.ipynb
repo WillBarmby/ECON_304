{
 "cells": [
  {
   "attachments": {},
   "cell_type": "markdown",
   "id": "d0ff41e8-9d1e-4b1d-9d08-2a785bbd4975",
   "metadata": {
    "editable": true,
    "slideshow": {
     "slide_type": "slide"
    },
    "tags": []
   },
   "source": [
    "# Data Assignment 1\n",
    "\n",
    "1) **Will Barmby (931150290)**\n",
    "\n",
    "for *Intermediate Macro*  \n",
    "W&amp;M ECON 304  "
   ]
  },
  {
   "cell_type": "markdown",
   "id": "7ce34530",
   "metadata": {},
   "source": [
    "## 1) \n",
    "\n",
    "Follow the notebook, [FRED](data-in-python), to answer question 1. You may use GenAI to help with debugging your code.\n",
    "\n",
    "### a.\n",
    "\n",
    "Using quarterly data on the GDP: implicit price deflator (FRED: GDPDEF) from 1960Q1-2024Q4, calculate the inflation rate as a year-over-year percent change (i.e., $100\\times(P_t/P_{t-4}-1)$). Make a figure of the inflation rate from 1960Q1 to 2025Q2."
   ]
  },
  {
   "cell_type": "code",
   "execution_count": null,
   "id": "6d4307da",
   "metadata": {},
   "outputs": [],
   "source": []
  },
  {
   "cell_type": "markdown",
   "id": "930f2148",
   "metadata": {},
   "source": [
    "### b.\n",
    "\n",
    "What is the average inflation rate from 1960Q1 to 1982Q4? from 1983Q1 to 2020Q1? and from 2020Q2 to 2025Q2? What changes in the economy explain the difference between the average inflation rates?"
   ]
  },
  {
   "cell_type": "code",
   "execution_count": null,
   "id": "93c49f18",
   "metadata": {},
   "outputs": [],
   "source": []
  },
  {
   "cell_type": "markdown",
   "id": "86cef937",
   "metadata": {},
   "source": [
    "## 2) \n",
    "\n",
    "Feel free to use GenAI to help with question 2a. Do not use GenAI on question 2b.\n",
    "\n",
    "### a.\n",
    "\n",
    "Create a figure (with a legend) that shows the following monthly data from January 1994-July 2025:\n",
    "- \"headline\" unemployment rate (FRED: UNRATE) \n",
    "- the unemployment rate that includes marginally attached and \"underemployed\" workers (FRED: U6RATE)"
   ]
  },
  {
   "cell_type": "code",
   "execution_count": null,
   "id": "be9daf9f",
   "metadata": {},
   "outputs": [],
   "source": []
  },
  {
   "cell_type": "markdown",
   "id": "dd026f72",
   "metadata": {},
   "source": [
    "### b.\n",
    "\n",
    "- In the last 3 recessions, calculate how much the headline unemployment rate increased. (See [NBER Recession Dates](https://www.nber.org/research/data/us-business-cycle-expansions-and-contractions) to see the exact start and end month of each recession).\n",
    "\n",
    "- Since 2020, what has happened to these unemployment rates?"
   ]
  },
  {
   "cell_type": "code",
   "execution_count": null,
   "id": "367d212a",
   "metadata": {},
   "outputs": [],
   "source": []
  },
  {
   "cell_type": "markdown",
   "id": "92229130",
   "metadata": {},
   "source": []
  },
  {
   "cell_type": "markdown",
   "id": "0c65498b",
   "metadata": {},
   "source": [
    "## 3)\n",
    "\n",
    "Given what you've done on questions 1 and 2, you shouldn't need GenAI for this question, but you may use it to help with debugging your code for 3a.\n",
    "\n",
    "### a.\n",
    "\n",
    "Using monthly data on the civilian labor force participation rate (FRED: CIVPART) and the labor force participation rate for women (FRED: LNS11300002) from January 1960–July 2025, create a figure showing both series over time."
   ]
  },
  {
   "cell_type": "code",
   "execution_count": null,
   "id": "25a8fbb3",
   "metadata": {},
   "outputs": [],
   "source": []
  },
  {
   "cell_type": "markdown",
   "id": "9cd06db6",
   "metadata": {},
   "source": [
    "### b.\n",
    "\n",
    "What long-run trend do you see in total labor force participation? How does the change in women’s labor force participation help explain this trend?"
   ]
  },
  {
   "cell_type": "markdown",
   "id": "b4a60740",
   "metadata": {},
   "source": []
  }
 ],
 "metadata": {
  "kernelspec": {
   "display_name": "Python (ECON 304)",
   "language": "python",
   "name": "econ_304"
  },
  "language_info": {
   "codemirror_mode": {
    "name": "ipython",
    "version": 3
   },
   "file_extension": ".py",
   "mimetype": "text/x-python",
   "name": "python",
   "nbconvert_exporter": "python",
   "pygments_lexer": "ipython3",
   "version": "3.13.3"
  },
  "panel-cell-order": [
   "2405467c-081f-49db-93e1-78a9589a7af0",
   "8f630e1e-8562-4bb9-8189-ba3ff355ce68",
   "ad7fd46f-9fe3-47fd-913a-0b036a2afc1d",
   "28bc64c9-955a-410b-a6a2-ad8aa61334fa",
   "1187d7b8-af0b-48e4-815c-a100fd5b6ea1",
   "08ee3431-baa7-4ea5-b6d1-c2a91213f385"
  ]
 },
 "nbformat": 4,
 "nbformat_minor": 5
}
